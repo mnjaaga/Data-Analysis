{
  "nbformat": 4,
  "nbformat_minor": 0,
  "metadata": {
    "colab": {
      "name": "Assignment #2.ipynb",
      "provenance": []
    },
    "kernelspec": {
      "name": "python3",
      "display_name": "Python 3"
    }
  },
  "cells": [
    {
      "cell_type": "code",
      "metadata": {
        "id": "-ctUvcSiKydX"
      },
      "source": [
        "import numpy as np\r\n",
        "import pandas as pd\r\n",
        "import matplotlib.pyplot as plt\r\n",
        "import seaborn as sns\r\n",
        "import statsmodels.api as sm\r\n",
        "from sklearn.model_selection import train_test_split\r\n",
        "from sklearn.metrics import roc_curve, auc"
      ],
      "execution_count": null,
      "outputs": []
    },
    {
      "cell_type": "code",
      "metadata": {
        "colab": {
          "base_uri": "https://localhost:8080/",
          "height": 204
        },
        "id": "dBgj6TiyLAKl",
        "outputId": "eb194fa2-d020-404a-da3b-f656cce5f5b9"
      },
      "source": [
        "df = pd.read_csv('/content/titanic_log.csv')\r\n",
        "df.head()"
      ],
      "execution_count": null,
      "outputs": [
        {
          "output_type": "execute_result",
          "data": {
            "text/html": [
              "<div>\n",
              "<style scoped>\n",
              "    .dataframe tbody tr th:only-of-type {\n",
              "        vertical-align: middle;\n",
              "    }\n",
              "\n",
              "    .dataframe tbody tr th {\n",
              "        vertical-align: top;\n",
              "    }\n",
              "\n",
              "    .dataframe thead th {\n",
              "        text-align: right;\n",
              "    }\n",
              "</style>\n",
              "<table border=\"1\" class=\"dataframe\">\n",
              "  <thead>\n",
              "    <tr style=\"text-align: right;\">\n",
              "      <th></th>\n",
              "      <th>PassengerId</th>\n",
              "      <th>Pclass</th>\n",
              "      <th>Sex</th>\n",
              "      <th>Age</th>\n",
              "      <th>SibSp</th>\n",
              "      <th>Parch</th>\n",
              "      <th>Fare</th>\n",
              "      <th>Embarked</th>\n",
              "      <th>Survived</th>\n",
              "    </tr>\n",
              "  </thead>\n",
              "  <tbody>\n",
              "    <tr>\n",
              "      <th>0</th>\n",
              "      <td>1</td>\n",
              "      <td>3</td>\n",
              "      <td>male</td>\n",
              "      <td>22.0</td>\n",
              "      <td>1</td>\n",
              "      <td>0</td>\n",
              "      <td>7.2500</td>\n",
              "      <td>S</td>\n",
              "      <td>0</td>\n",
              "    </tr>\n",
              "    <tr>\n",
              "      <th>1</th>\n",
              "      <td>2</td>\n",
              "      <td>1</td>\n",
              "      <td>female</td>\n",
              "      <td>38.0</td>\n",
              "      <td>1</td>\n",
              "      <td>0</td>\n",
              "      <td>71.2833</td>\n",
              "      <td>C</td>\n",
              "      <td>1</td>\n",
              "    </tr>\n",
              "    <tr>\n",
              "      <th>2</th>\n",
              "      <td>3</td>\n",
              "      <td>3</td>\n",
              "      <td>female</td>\n",
              "      <td>26.0</td>\n",
              "      <td>0</td>\n",
              "      <td>0</td>\n",
              "      <td>7.9250</td>\n",
              "      <td>S</td>\n",
              "      <td>1</td>\n",
              "    </tr>\n",
              "    <tr>\n",
              "      <th>3</th>\n",
              "      <td>4</td>\n",
              "      <td>1</td>\n",
              "      <td>female</td>\n",
              "      <td>35.0</td>\n",
              "      <td>1</td>\n",
              "      <td>0</td>\n",
              "      <td>53.1000</td>\n",
              "      <td>S</td>\n",
              "      <td>1</td>\n",
              "    </tr>\n",
              "    <tr>\n",
              "      <th>4</th>\n",
              "      <td>5</td>\n",
              "      <td>3</td>\n",
              "      <td>male</td>\n",
              "      <td>35.0</td>\n",
              "      <td>0</td>\n",
              "      <td>0</td>\n",
              "      <td>8.0500</td>\n",
              "      <td>S</td>\n",
              "      <td>0</td>\n",
              "    </tr>\n",
              "  </tbody>\n",
              "</table>\n",
              "</div>"
            ],
            "text/plain": [
              "   PassengerId  Pclass     Sex   Age  SibSp  Parch     Fare Embarked  Survived\n",
              "0            1       3    male  22.0      1      0   7.2500        S         0\n",
              "1            2       1  female  38.0      1      0  71.2833        C         1\n",
              "2            3       3  female  26.0      0      0   7.9250        S         1\n",
              "3            4       1  female  35.0      1      0  53.1000        S         1\n",
              "4            5       3    male  35.0      0      0   8.0500        S         0"
            ]
          },
          "metadata": {
            "tags": []
          },
          "execution_count": 3
        }
      ]
    },
    {
      "cell_type": "code",
      "metadata": {
        "colab": {
          "base_uri": "https://localhost:8080/",
          "height": 266
        },
        "id": "F43uclNiLNeS",
        "outputId": "3dacf579-9aa3-4ae8-9974-cfdfebeb76ab"
      },
      "source": [
        "# Describe the dataset\r\n",
        "df.describe().T"
      ],
      "execution_count": null,
      "outputs": [
        {
          "output_type": "execute_result",
          "data": {
            "text/html": [
              "<div>\n",
              "<style scoped>\n",
              "    .dataframe tbody tr th:only-of-type {\n",
              "        vertical-align: middle;\n",
              "    }\n",
              "\n",
              "    .dataframe tbody tr th {\n",
              "        vertical-align: top;\n",
              "    }\n",
              "\n",
              "    .dataframe thead th {\n",
              "        text-align: right;\n",
              "    }\n",
              "</style>\n",
              "<table border=\"1\" class=\"dataframe\">\n",
              "  <thead>\n",
              "    <tr style=\"text-align: right;\">\n",
              "      <th></th>\n",
              "      <th>count</th>\n",
              "      <th>mean</th>\n",
              "      <th>std</th>\n",
              "      <th>min</th>\n",
              "      <th>25%</th>\n",
              "      <th>50%</th>\n",
              "      <th>75%</th>\n",
              "      <th>max</th>\n",
              "    </tr>\n",
              "  </thead>\n",
              "  <tbody>\n",
              "    <tr>\n",
              "      <th>PassengerId</th>\n",
              "      <td>891.0</td>\n",
              "      <td>446.000000</td>\n",
              "      <td>257.353842</td>\n",
              "      <td>1.00</td>\n",
              "      <td>223.5000</td>\n",
              "      <td>446.0000</td>\n",
              "      <td>668.5</td>\n",
              "      <td>891.0000</td>\n",
              "    </tr>\n",
              "    <tr>\n",
              "      <th>Pclass</th>\n",
              "      <td>891.0</td>\n",
              "      <td>2.308642</td>\n",
              "      <td>0.836071</td>\n",
              "      <td>1.00</td>\n",
              "      <td>2.0000</td>\n",
              "      <td>3.0000</td>\n",
              "      <td>3.0</td>\n",
              "      <td>3.0000</td>\n",
              "    </tr>\n",
              "    <tr>\n",
              "      <th>Age</th>\n",
              "      <td>714.0</td>\n",
              "      <td>29.699118</td>\n",
              "      <td>14.526497</td>\n",
              "      <td>0.42</td>\n",
              "      <td>20.1250</td>\n",
              "      <td>28.0000</td>\n",
              "      <td>38.0</td>\n",
              "      <td>80.0000</td>\n",
              "    </tr>\n",
              "    <tr>\n",
              "      <th>SibSp</th>\n",
              "      <td>891.0</td>\n",
              "      <td>0.523008</td>\n",
              "      <td>1.102743</td>\n",
              "      <td>0.00</td>\n",
              "      <td>0.0000</td>\n",
              "      <td>0.0000</td>\n",
              "      <td>1.0</td>\n",
              "      <td>8.0000</td>\n",
              "    </tr>\n",
              "    <tr>\n",
              "      <th>Parch</th>\n",
              "      <td>891.0</td>\n",
              "      <td>0.381594</td>\n",
              "      <td>0.806057</td>\n",
              "      <td>0.00</td>\n",
              "      <td>0.0000</td>\n",
              "      <td>0.0000</td>\n",
              "      <td>0.0</td>\n",
              "      <td>6.0000</td>\n",
              "    </tr>\n",
              "    <tr>\n",
              "      <th>Fare</th>\n",
              "      <td>891.0</td>\n",
              "      <td>32.204208</td>\n",
              "      <td>49.693429</td>\n",
              "      <td>0.00</td>\n",
              "      <td>7.9104</td>\n",
              "      <td>14.4542</td>\n",
              "      <td>31.0</td>\n",
              "      <td>512.3292</td>\n",
              "    </tr>\n",
              "    <tr>\n",
              "      <th>Survived</th>\n",
              "      <td>891.0</td>\n",
              "      <td>0.383838</td>\n",
              "      <td>0.486592</td>\n",
              "      <td>0.00</td>\n",
              "      <td>0.0000</td>\n",
              "      <td>0.0000</td>\n",
              "      <td>1.0</td>\n",
              "      <td>1.0000</td>\n",
              "    </tr>\n",
              "  </tbody>\n",
              "</table>\n",
              "</div>"
            ],
            "text/plain": [
              "             count        mean         std  ...       50%    75%       max\n",
              "PassengerId  891.0  446.000000  257.353842  ...  446.0000  668.5  891.0000\n",
              "Pclass       891.0    2.308642    0.836071  ...    3.0000    3.0    3.0000\n",
              "Age          714.0   29.699118   14.526497  ...   28.0000   38.0   80.0000\n",
              "SibSp        891.0    0.523008    1.102743  ...    0.0000    1.0    8.0000\n",
              "Parch        891.0    0.381594    0.806057  ...    0.0000    0.0    6.0000\n",
              "Fare         891.0   32.204208   49.693429  ...   14.4542   31.0  512.3292\n",
              "Survived     891.0    0.383838    0.486592  ...    0.0000    1.0    1.0000\n",
              "\n",
              "[7 rows x 8 columns]"
            ]
          },
          "metadata": {
            "tags": []
          },
          "execution_count": 4
        }
      ]
    },
    {
      "cell_type": "code",
      "metadata": {
        "colab": {
          "base_uri": "https://localhost:8080/"
        },
        "id": "2qgCjPCtNCf6",
        "outputId": "786f6f8e-40ce-4d51-8980-ba411fb8ce41"
      },
      "source": [
        "#counting data missing in the columns (most are blanks)\r\n",
        "\r\n",
        "df_blanks = df.apply(lambda x: x.isnull().sum(), axis='columns')\r\n",
        "df_blanks"
      ],
      "execution_count": null,
      "outputs": [
        {
          "output_type": "execute_result",
          "data": {
            "text/plain": [
              "0      0\n",
              "1      0\n",
              "2      0\n",
              "3      0\n",
              "4      0\n",
              "      ..\n",
              "886    0\n",
              "887    0\n",
              "888    1\n",
              "889    0\n",
              "890    0\n",
              "Length: 891, dtype: int64"
            ]
          },
          "metadata": {
            "tags": []
          },
          "execution_count": 6
        }
      ]
    },
    {
      "cell_type": "code",
      "metadata": {
        "colab": {
          "base_uri": "https://localhost:8080/",
          "height": 419
        },
        "id": "60VJiPT2Q1Kd",
        "outputId": "324aff1b-418a-43d1-abbf-1bd596e8dacd"
      },
      "source": [
        "# checking for nas\r\n",
        "df_nas = df.isna()\r\n",
        "df_nas"
      ],
      "execution_count": null,
      "outputs": [
        {
          "output_type": "execute_result",
          "data": {
            "text/html": [
              "<div>\n",
              "<style scoped>\n",
              "    .dataframe tbody tr th:only-of-type {\n",
              "        vertical-align: middle;\n",
              "    }\n",
              "\n",
              "    .dataframe tbody tr th {\n",
              "        vertical-align: top;\n",
              "    }\n",
              "\n",
              "    .dataframe thead th {\n",
              "        text-align: right;\n",
              "    }\n",
              "</style>\n",
              "<table border=\"1\" class=\"dataframe\">\n",
              "  <thead>\n",
              "    <tr style=\"text-align: right;\">\n",
              "      <th></th>\n",
              "      <th>PassengerId</th>\n",
              "      <th>Pclass</th>\n",
              "      <th>Sex</th>\n",
              "      <th>Age</th>\n",
              "      <th>SibSp</th>\n",
              "      <th>Parch</th>\n",
              "      <th>Fare</th>\n",
              "      <th>Embarked</th>\n",
              "      <th>Survived</th>\n",
              "    </tr>\n",
              "  </thead>\n",
              "  <tbody>\n",
              "    <tr>\n",
              "      <th>0</th>\n",
              "      <td>False</td>\n",
              "      <td>False</td>\n",
              "      <td>False</td>\n",
              "      <td>False</td>\n",
              "      <td>False</td>\n",
              "      <td>False</td>\n",
              "      <td>False</td>\n",
              "      <td>False</td>\n",
              "      <td>False</td>\n",
              "    </tr>\n",
              "    <tr>\n",
              "      <th>1</th>\n",
              "      <td>False</td>\n",
              "      <td>False</td>\n",
              "      <td>False</td>\n",
              "      <td>False</td>\n",
              "      <td>False</td>\n",
              "      <td>False</td>\n",
              "      <td>False</td>\n",
              "      <td>False</td>\n",
              "      <td>False</td>\n",
              "    </tr>\n",
              "    <tr>\n",
              "      <th>2</th>\n",
              "      <td>False</td>\n",
              "      <td>False</td>\n",
              "      <td>False</td>\n",
              "      <td>False</td>\n",
              "      <td>False</td>\n",
              "      <td>False</td>\n",
              "      <td>False</td>\n",
              "      <td>False</td>\n",
              "      <td>False</td>\n",
              "    </tr>\n",
              "    <tr>\n",
              "      <th>3</th>\n",
              "      <td>False</td>\n",
              "      <td>False</td>\n",
              "      <td>False</td>\n",
              "      <td>False</td>\n",
              "      <td>False</td>\n",
              "      <td>False</td>\n",
              "      <td>False</td>\n",
              "      <td>False</td>\n",
              "      <td>False</td>\n",
              "    </tr>\n",
              "    <tr>\n",
              "      <th>4</th>\n",
              "      <td>False</td>\n",
              "      <td>False</td>\n",
              "      <td>False</td>\n",
              "      <td>False</td>\n",
              "      <td>False</td>\n",
              "      <td>False</td>\n",
              "      <td>False</td>\n",
              "      <td>False</td>\n",
              "      <td>False</td>\n",
              "    </tr>\n",
              "    <tr>\n",
              "      <th>...</th>\n",
              "      <td>...</td>\n",
              "      <td>...</td>\n",
              "      <td>...</td>\n",
              "      <td>...</td>\n",
              "      <td>...</td>\n",
              "      <td>...</td>\n",
              "      <td>...</td>\n",
              "      <td>...</td>\n",
              "      <td>...</td>\n",
              "    </tr>\n",
              "    <tr>\n",
              "      <th>886</th>\n",
              "      <td>False</td>\n",
              "      <td>False</td>\n",
              "      <td>False</td>\n",
              "      <td>False</td>\n",
              "      <td>False</td>\n",
              "      <td>False</td>\n",
              "      <td>False</td>\n",
              "      <td>False</td>\n",
              "      <td>False</td>\n",
              "    </tr>\n",
              "    <tr>\n",
              "      <th>887</th>\n",
              "      <td>False</td>\n",
              "      <td>False</td>\n",
              "      <td>False</td>\n",
              "      <td>False</td>\n",
              "      <td>False</td>\n",
              "      <td>False</td>\n",
              "      <td>False</td>\n",
              "      <td>False</td>\n",
              "      <td>False</td>\n",
              "    </tr>\n",
              "    <tr>\n",
              "      <th>888</th>\n",
              "      <td>False</td>\n",
              "      <td>False</td>\n",
              "      <td>False</td>\n",
              "      <td>True</td>\n",
              "      <td>False</td>\n",
              "      <td>False</td>\n",
              "      <td>False</td>\n",
              "      <td>False</td>\n",
              "      <td>False</td>\n",
              "    </tr>\n",
              "    <tr>\n",
              "      <th>889</th>\n",
              "      <td>False</td>\n",
              "      <td>False</td>\n",
              "      <td>False</td>\n",
              "      <td>False</td>\n",
              "      <td>False</td>\n",
              "      <td>False</td>\n",
              "      <td>False</td>\n",
              "      <td>False</td>\n",
              "      <td>False</td>\n",
              "    </tr>\n",
              "    <tr>\n",
              "      <th>890</th>\n",
              "      <td>False</td>\n",
              "      <td>False</td>\n",
              "      <td>False</td>\n",
              "      <td>False</td>\n",
              "      <td>False</td>\n",
              "      <td>False</td>\n",
              "      <td>False</td>\n",
              "      <td>False</td>\n",
              "      <td>False</td>\n",
              "    </tr>\n",
              "  </tbody>\n",
              "</table>\n",
              "<p>891 rows × 9 columns</p>\n",
              "</div>"
            ],
            "text/plain": [
              "     PassengerId  Pclass    Sex    Age  SibSp  Parch   Fare  Embarked  Survived\n",
              "0          False   False  False  False  False  False  False     False     False\n",
              "1          False   False  False  False  False  False  False     False     False\n",
              "2          False   False  False  False  False  False  False     False     False\n",
              "3          False   False  False  False  False  False  False     False     False\n",
              "4          False   False  False  False  False  False  False     False     False\n",
              "..           ...     ...    ...    ...    ...    ...    ...       ...       ...\n",
              "886        False   False  False  False  False  False  False     False     False\n",
              "887        False   False  False  False  False  False  False     False     False\n",
              "888        False   False  False   True  False  False  False     False     False\n",
              "889        False   False  False  False  False  False  False     False     False\n",
              "890        False   False  False  False  False  False  False     False     False\n",
              "\n",
              "[891 rows x 9 columns]"
            ]
          },
          "metadata": {
            "tags": []
          },
          "execution_count": 7
        }
      ]
    },
    {
      "cell_type": "code",
      "metadata": {
        "colab": {
          "base_uri": "https://localhost:8080/",
          "height": 419
        },
        "id": "6jaF1jeaQgTC",
        "outputId": "15783a83-2c47-46b8-cf73-374ad12f5a05"
      },
      "source": [
        "# dropping the data with blank values results to 712 records out of 890 \r\n",
        "df = df.dropna()\r\n",
        "df"
      ],
      "execution_count": null,
      "outputs": [
        {
          "output_type": "execute_result",
          "data": {
            "text/html": [
              "<div>\n",
              "<style scoped>\n",
              "    .dataframe tbody tr th:only-of-type {\n",
              "        vertical-align: middle;\n",
              "    }\n",
              "\n",
              "    .dataframe tbody tr th {\n",
              "        vertical-align: top;\n",
              "    }\n",
              "\n",
              "    .dataframe thead th {\n",
              "        text-align: right;\n",
              "    }\n",
              "</style>\n",
              "<table border=\"1\" class=\"dataframe\">\n",
              "  <thead>\n",
              "    <tr style=\"text-align: right;\">\n",
              "      <th></th>\n",
              "      <th>PassengerId</th>\n",
              "      <th>Pclass</th>\n",
              "      <th>Sex</th>\n",
              "      <th>Age</th>\n",
              "      <th>SibSp</th>\n",
              "      <th>Parch</th>\n",
              "      <th>Fare</th>\n",
              "      <th>Embarked</th>\n",
              "      <th>Survived</th>\n",
              "    </tr>\n",
              "  </thead>\n",
              "  <tbody>\n",
              "    <tr>\n",
              "      <th>0</th>\n",
              "      <td>1</td>\n",
              "      <td>3</td>\n",
              "      <td>male</td>\n",
              "      <td>22.0</td>\n",
              "      <td>1</td>\n",
              "      <td>0</td>\n",
              "      <td>7.2500</td>\n",
              "      <td>S</td>\n",
              "      <td>0</td>\n",
              "    </tr>\n",
              "    <tr>\n",
              "      <th>1</th>\n",
              "      <td>2</td>\n",
              "      <td>1</td>\n",
              "      <td>female</td>\n",
              "      <td>38.0</td>\n",
              "      <td>1</td>\n",
              "      <td>0</td>\n",
              "      <td>71.2833</td>\n",
              "      <td>C</td>\n",
              "      <td>1</td>\n",
              "    </tr>\n",
              "    <tr>\n",
              "      <th>2</th>\n",
              "      <td>3</td>\n",
              "      <td>3</td>\n",
              "      <td>female</td>\n",
              "      <td>26.0</td>\n",
              "      <td>0</td>\n",
              "      <td>0</td>\n",
              "      <td>7.9250</td>\n",
              "      <td>S</td>\n",
              "      <td>1</td>\n",
              "    </tr>\n",
              "    <tr>\n",
              "      <th>3</th>\n",
              "      <td>4</td>\n",
              "      <td>1</td>\n",
              "      <td>female</td>\n",
              "      <td>35.0</td>\n",
              "      <td>1</td>\n",
              "      <td>0</td>\n",
              "      <td>53.1000</td>\n",
              "      <td>S</td>\n",
              "      <td>1</td>\n",
              "    </tr>\n",
              "    <tr>\n",
              "      <th>4</th>\n",
              "      <td>5</td>\n",
              "      <td>3</td>\n",
              "      <td>male</td>\n",
              "      <td>35.0</td>\n",
              "      <td>0</td>\n",
              "      <td>0</td>\n",
              "      <td>8.0500</td>\n",
              "      <td>S</td>\n",
              "      <td>0</td>\n",
              "    </tr>\n",
              "    <tr>\n",
              "      <th>...</th>\n",
              "      <td>...</td>\n",
              "      <td>...</td>\n",
              "      <td>...</td>\n",
              "      <td>...</td>\n",
              "      <td>...</td>\n",
              "      <td>...</td>\n",
              "      <td>...</td>\n",
              "      <td>...</td>\n",
              "      <td>...</td>\n",
              "    </tr>\n",
              "    <tr>\n",
              "      <th>885</th>\n",
              "      <td>886</td>\n",
              "      <td>3</td>\n",
              "      <td>female</td>\n",
              "      <td>39.0</td>\n",
              "      <td>0</td>\n",
              "      <td>5</td>\n",
              "      <td>29.1250</td>\n",
              "      <td>Q</td>\n",
              "      <td>0</td>\n",
              "    </tr>\n",
              "    <tr>\n",
              "      <th>886</th>\n",
              "      <td>887</td>\n",
              "      <td>2</td>\n",
              "      <td>male</td>\n",
              "      <td>27.0</td>\n",
              "      <td>0</td>\n",
              "      <td>0</td>\n",
              "      <td>13.0000</td>\n",
              "      <td>S</td>\n",
              "      <td>0</td>\n",
              "    </tr>\n",
              "    <tr>\n",
              "      <th>887</th>\n",
              "      <td>888</td>\n",
              "      <td>1</td>\n",
              "      <td>female</td>\n",
              "      <td>19.0</td>\n",
              "      <td>0</td>\n",
              "      <td>0</td>\n",
              "      <td>30.0000</td>\n",
              "      <td>S</td>\n",
              "      <td>1</td>\n",
              "    </tr>\n",
              "    <tr>\n",
              "      <th>889</th>\n",
              "      <td>890</td>\n",
              "      <td>1</td>\n",
              "      <td>male</td>\n",
              "      <td>26.0</td>\n",
              "      <td>0</td>\n",
              "      <td>0</td>\n",
              "      <td>30.0000</td>\n",
              "      <td>C</td>\n",
              "      <td>1</td>\n",
              "    </tr>\n",
              "    <tr>\n",
              "      <th>890</th>\n",
              "      <td>891</td>\n",
              "      <td>3</td>\n",
              "      <td>male</td>\n",
              "      <td>32.0</td>\n",
              "      <td>0</td>\n",
              "      <td>0</td>\n",
              "      <td>7.7500</td>\n",
              "      <td>Q</td>\n",
              "      <td>0</td>\n",
              "    </tr>\n",
              "  </tbody>\n",
              "</table>\n",
              "<p>712 rows × 9 columns</p>\n",
              "</div>"
            ],
            "text/plain": [
              "     PassengerId  Pclass     Sex   Age  ...  Parch     Fare  Embarked Survived\n",
              "0              1       3    male  22.0  ...      0   7.2500         S        0\n",
              "1              2       1  female  38.0  ...      0  71.2833         C        1\n",
              "2              3       3  female  26.0  ...      0   7.9250         S        1\n",
              "3              4       1  female  35.0  ...      0  53.1000         S        1\n",
              "4              5       3    male  35.0  ...      0   8.0500         S        0\n",
              "..           ...     ...     ...   ...  ...    ...      ...       ...      ...\n",
              "885          886       3  female  39.0  ...      5  29.1250         Q        0\n",
              "886          887       2    male  27.0  ...      0  13.0000         S        0\n",
              "887          888       1  female  19.0  ...      0  30.0000         S        1\n",
              "889          890       1    male  26.0  ...      0  30.0000         C        1\n",
              "890          891       3    male  32.0  ...      0   7.7500         Q        0\n",
              "\n",
              "[712 rows x 9 columns]"
            ]
          },
          "metadata": {
            "tags": []
          },
          "execution_count": 8
        }
      ]
    },
    {
      "cell_type": "code",
      "metadata": {
        "colab": {
          "base_uri": "https://localhost:8080/",
          "height": 279
        },
        "id": "qqFkIwgMR2W6",
        "outputId": "41d1ee6e-3a24-45e7-f9ef-3604fd24e673"
      },
      "source": [
        "# Create a sns counplot of the Survived column\r\n",
        "\r\n",
        "ax = sns.countplot(x=\"Survived\", data=df)"
      ],
      "execution_count": null,
      "outputs": [
        {
          "output_type": "display_data",
          "data": {
            "image/png": "[encoded data removed]",
            "text/plain": [
              "<Figure size 432x288 with 1 Axes>"
            ]
          },
          "metadata": {
            "tags": [],
            "needs_background": "light"
          }
        }
      ]
    },
    {
      "cell_type": "code",
      "metadata": {
        "colab": {
          "base_uri": "https://localhost:8080/"
        },
        "id": "8heXhGfUTB-V",
        "outputId": "94d1a533-0d5f-4b90-a0ee-059d8f568fd0"
      },
      "source": [
        "#Describe the age column\r\n",
        "\r\n",
        "df['Age'].describe()"
      ],
      "execution_count": null,
      "outputs": [
        {
          "output_type": "execute_result",
          "data": {
            "text/plain": [
              "count    712.000000\n",
              "mean      29.642093\n",
              "std       14.492933\n",
              "min        0.420000\n",
              "25%       20.000000\n",
              "50%       28.000000\n",
              "75%       38.000000\n",
              "max       80.000000\n",
              "Name: Age, dtype: float64"
            ]
          },
          "metadata": {
            "tags": []
          },
          "execution_count": 10
        }
      ]
    },
    {
      "cell_type": "code",
      "metadata": {
        "colab": {
          "base_uri": "https://localhost:8080/",
          "height": 265
        },
        "id": "BZ64_sPeU-lp",
        "outputId": "6342909c-f668-48ff-e8ef-cb479de97283"
      },
      "source": [
        "#scatter plot on age & survival\r\n",
        "\r\n",
        "import matplotlib.pyplot as plt\r\n",
        "\r\n",
        "x = df['Age']\r\n",
        "y = df['Survived']\r\n",
        "\r\n",
        "plt.scatter(x , y )\r\n",
        "plt.show()"
      ],
      "execution_count": null,
      "outputs": [
        {
          "output_type": "display_data",
          "data": {
            "image/png": "[encoded data removed]",
            "text/plain": [
              "<Figure size 432x288 with 1 Axes>"
            ]
          },
          "metadata": {
            "tags": [],
            "needs_background": "light"
          }
        }
      ]
    },
    {
      "cell_type": "code",
      "metadata": {
        "colab": {
          "base_uri": "https://localhost:8080/",
          "height": 898
        },
        "id": "kF2Yj6SeY6p9",
        "outputId": "eb634fbf-d074-46ea-b53f-9e792b11ac59"
      },
      "source": [
        "#Create a FacetGridwith plot having col='Survived', row='Pclass'. Plot Age on the same grid\r\n",
        "#& add a legend.\r\n",
        "\r\n",
        "g = sns.FacetGrid(df, col='Survived', row='Pclass')\r\n",
        "g = g.map(sns.distplot, 'Age')\r\n",
        "g.add_legend()"
      ],
      "execution_count": null,
      "outputs": [
        {
          "output_type": "stream",
          "text": [
            "/usr/local/lib/python3.6/dist-packages/seaborn/distributions.py:2551: FutureWarning: `distplot` is a deprecated function and will be removed in a future version. Please adapt your code to use either `displot` (a figure-level function with similar flexibility) or `histplot` (an axes-level function for histograms).\n",
            "  warnings.warn(msg, FutureWarning)\n",
            "/usr/local/lib/python3.6/dist-packages/seaborn/distributions.py:2551: FutureWarning: `distplot` is a deprecated function and will be removed in a future version. Please adapt your code to use either `displot` (a figure-level function with similar flexibility) or `histplot` (an axes-level function for histograms).\n",
            "  warnings.warn(msg, FutureWarning)\n",
            "/usr/local/lib/python3.6/dist-packages/seaborn/distributions.py:2551: FutureWarning: `distplot` is a deprecated function and will be removed in a future version. Please adapt your code to use either `displot` (a figure-level function with similar flexibility) or `histplot` (an axes-level function for histograms).\n",
            "  warnings.warn(msg, FutureWarning)\n",
            "/usr/local/lib/python3.6/dist-packages/seaborn/distributions.py:2551: FutureWarning: `distplot` is a deprecated function and will be removed in a future version. Please adapt your code to use either `displot` (a figure-level function with similar flexibility) or `histplot` (an axes-level function for histograms).\n",
            "  warnings.warn(msg, FutureWarning)\n",
            "/usr/local/lib/python3.6/dist-packages/seaborn/distributions.py:2551: FutureWarning: `distplot` is a deprecated function and will be removed in a future version. Please adapt your code to use either `displot` (a figure-level function with similar flexibility) or `histplot` (an axes-level function for histograms).\n",
            "  warnings.warn(msg, FutureWarning)\n",
            "/usr/local/lib/python3.6/dist-packages/seaborn/distributions.py:2551: FutureWarning: `distplot` is a deprecated function and will be removed in a future version. Please adapt your code to use either `displot` (a figure-level function with similar flexibility) or `histplot` (an axes-level function for histograms).\n",
            "  warnings.warn(msg, FutureWarning)\n"
          ],
          "name": "stderr"
        },
        {
          "output_type": "execute_result",
          "data": {
            "text/plain": [
              "<seaborn.axisgrid.FacetGrid at 0x7f72cd7c2b38>"
            ]
          },
          "metadata": {
            "tags": []
          },
          "execution_count": 12
        },
        {
          "output_type": "display_data",
          "data": {
            "image/png": "[encoded data removed]",
            "text/plain": [
              "<Figure size 440x648 with 6 Axes>"
            ]
          },
          "metadata": {
            "tags": [],
            "needs_background": "light"
          }
        }
      ]
    },
    {
      "cell_type": "markdown",
      "metadata": {
        "id": "nUpVAd2GCs56"
      },
      "source": [
        "**Feature selection is a process where you automatically select those features in your data that contribute most to the prediction variable or output in which you are interested.**"
      ]
    },
    {
      "cell_type": "markdown",
      "metadata": {
        "id": "W9Z6LkL1ns_D"
      },
      "source": [
        ""
      ]
    },
    {
      "cell_type": "code",
      "metadata": {
        "id": "pLIEibUNnakn"
      },
      "source": [
        "#7Select the features as df[['Pclass','Age','SibSp','Parch','Fare']] and the target is Survived"
      ],
      "execution_count": null,
      "outputs": []
    },
    {
      "cell_type": "code",
      "metadata": {
        "colab": {
          "base_uri": "https://localhost:8080/",
          "height": 204
        },
        "id": "ZE2Ewjvpnvgq",
        "outputId": "dd859cc9-9077-4be4-8f4c-d0343338c30f"
      },
      "source": [
        "features = df[['Pclass','Age','SibSp','Parch','Fare']]\r\n",
        "target = df.Survived\r\n",
        "features.corr()"
      ],
      "execution_count": null,
      "outputs": [
        {
          "output_type": "execute_result",
          "data": {
            "text/html": [
              "<div>\n",
              "<style scoped>\n",
              "    .dataframe tbody tr th:only-of-type {\n",
              "        vertical-align: middle;\n",
              "    }\n",
              "\n",
              "    .dataframe tbody tr th {\n",
              "        vertical-align: top;\n",
              "    }\n",
              "\n",
              "    .dataframe thead th {\n",
              "        text-align: right;\n",
              "    }\n",
              "</style>\n",
              "<table border=\"1\" class=\"dataframe\">\n",
              "  <thead>\n",
              "    <tr style=\"text-align: right;\">\n",
              "      <th></th>\n",
              "      <th>Pclass</th>\n",
              "      <th>Age</th>\n",
              "      <th>SibSp</th>\n",
              "      <th>Parch</th>\n",
              "      <th>Fare</th>\n",
              "    </tr>\n",
              "  </thead>\n",
              "  <tbody>\n",
              "    <tr>\n",
              "      <th>Pclass</th>\n",
              "      <td>1.000000</td>\n",
              "      <td>-0.365902</td>\n",
              "      <td>0.065187</td>\n",
              "      <td>0.023666</td>\n",
              "      <td>-0.552893</td>\n",
              "    </tr>\n",
              "    <tr>\n",
              "      <th>Age</th>\n",
              "      <td>-0.365902</td>\n",
              "      <td>1.000000</td>\n",
              "      <td>-0.307351</td>\n",
              "      <td>-0.187896</td>\n",
              "      <td>0.093143</td>\n",
              "    </tr>\n",
              "    <tr>\n",
              "      <th>SibSp</th>\n",
              "      <td>0.065187</td>\n",
              "      <td>-0.307351</td>\n",
              "      <td>1.000000</td>\n",
              "      <td>0.383338</td>\n",
              "      <td>0.139860</td>\n",
              "    </tr>\n",
              "    <tr>\n",
              "      <th>Parch</th>\n",
              "      <td>0.023666</td>\n",
              "      <td>-0.187896</td>\n",
              "      <td>0.383338</td>\n",
              "      <td>1.000000</td>\n",
              "      <td>0.206624</td>\n",
              "    </tr>\n",
              "    <tr>\n",
              "      <th>Fare</th>\n",
              "      <td>-0.552893</td>\n",
              "      <td>0.093143</td>\n",
              "      <td>0.139860</td>\n",
              "      <td>0.206624</td>\n",
              "      <td>1.000000</td>\n",
              "    </tr>\n",
              "  </tbody>\n",
              "</table>\n",
              "</div>"
            ],
            "text/plain": [
              "          Pclass       Age     SibSp     Parch      Fare\n",
              "Pclass  1.000000 -0.365902  0.065187  0.023666 -0.552893\n",
              "Age    -0.365902  1.000000 -0.307351 -0.187896  0.093143\n",
              "SibSp   0.065187 -0.307351  1.000000  0.383338  0.139860\n",
              "Parch   0.023666 -0.187896  0.383338  1.000000  0.206624\n",
              "Fare   -0.552893  0.093143  0.139860  0.206624  1.000000"
            ]
          },
          "metadata": {
            "tags": []
          },
          "execution_count": 13
        }
      ]
    },
    {
      "cell_type": "code",
      "metadata": {
        "colab": {
          "base_uri": "https://localhost:8080/",
          "height": 173
        },
        "id": "QdRmZyKfCR3s",
        "outputId": "5e413763-8cde-4c7b-9a95-5ccb3c5f3f32"
      },
      "source": [
        "# Feature Selection (to help answer Question # 19)\r\n",
        "features = df[['Pclass','SexNum', 'Age','SibSp']]\r\n",
        "target = df.Survived\r\n",
        "features.corr()"
      ],
      "execution_count": null,
      "outputs": [
        {
          "output_type": "execute_result",
          "data": {
            "text/html": [
              "<div>\n",
              "<style scoped>\n",
              "    .dataframe tbody tr th:only-of-type {\n",
              "        vertical-align: middle;\n",
              "    }\n",
              "\n",
              "    .dataframe tbody tr th {\n",
              "        vertical-align: top;\n",
              "    }\n",
              "\n",
              "    .dataframe thead th {\n",
              "        text-align: right;\n",
              "    }\n",
              "</style>\n",
              "<table border=\"1\" class=\"dataframe\">\n",
              "  <thead>\n",
              "    <tr style=\"text-align: right;\">\n",
              "      <th></th>\n",
              "      <th>Pclass</th>\n",
              "      <th>SexNum</th>\n",
              "      <th>Age</th>\n",
              "      <th>SibSp</th>\n",
              "    </tr>\n",
              "  </thead>\n",
              "  <tbody>\n",
              "    <tr>\n",
              "      <th>Pclass</th>\n",
              "      <td>1.000000</td>\n",
              "      <td>-0.150826</td>\n",
              "      <td>-0.365902</td>\n",
              "      <td>0.065187</td>\n",
              "    </tr>\n",
              "    <tr>\n",
              "      <th>SexNum</th>\n",
              "      <td>-0.150826</td>\n",
              "      <td>1.000000</td>\n",
              "      <td>-0.099037</td>\n",
              "      <td>0.106296</td>\n",
              "    </tr>\n",
              "    <tr>\n",
              "      <th>Age</th>\n",
              "      <td>-0.365902</td>\n",
              "      <td>-0.099037</td>\n",
              "      <td>1.000000</td>\n",
              "      <td>-0.307351</td>\n",
              "    </tr>\n",
              "    <tr>\n",
              "      <th>SibSp</th>\n",
              "      <td>0.065187</td>\n",
              "      <td>0.106296</td>\n",
              "      <td>-0.307351</td>\n",
              "      <td>1.000000</td>\n",
              "    </tr>\n",
              "  </tbody>\n",
              "</table>\n",
              "</div>"
            ],
            "text/plain": [
              "          Pclass    SexNum       Age     SibSp\n",
              "Pclass  1.000000 -0.150826 -0.365902  0.065187\n",
              "SexNum -0.150826  1.000000 -0.099037  0.106296\n",
              "Age    -0.365902 -0.099037  1.000000 -0.307351\n",
              "SibSp   0.065187  0.106296 -0.307351  1.000000"
            ]
          },
          "metadata": {
            "tags": []
          },
          "execution_count": 54
        }
      ]
    },
    {
      "cell_type": "code",
      "metadata": {
        "colab": {
          "base_uri": "https://localhost:8080/",
          "height": 204
        },
        "id": "LgyXHG3oDqHj",
        "outputId": "3d822c11-80f6-420a-f2de-7dcf460a80a8"
      },
      "source": [
        "features = df[['Pclass','Age','SibSp','Parch','SexNum']]\r\n",
        "target = df.Survived\r\n",
        "features.corr()"
      ],
      "execution_count": null,
      "outputs": [
        {
          "output_type": "execute_result",
          "data": {
            "text/html": [
              "<div>\n",
              "<style scoped>\n",
              "    .dataframe tbody tr th:only-of-type {\n",
              "        vertical-align: middle;\n",
              "    }\n",
              "\n",
              "    .dataframe tbody tr th {\n",
              "        vertical-align: top;\n",
              "    }\n",
              "\n",
              "    .dataframe thead th {\n",
              "        text-align: right;\n",
              "    }\n",
              "</style>\n",
              "<table border=\"1\" class=\"dataframe\">\n",
              "  <thead>\n",
              "    <tr style=\"text-align: right;\">\n",
              "      <th></th>\n",
              "      <th>Pclass</th>\n",
              "      <th>Age</th>\n",
              "      <th>SibSp</th>\n",
              "      <th>Parch</th>\n",
              "      <th>SexNum</th>\n",
              "    </tr>\n",
              "  </thead>\n",
              "  <tbody>\n",
              "    <tr>\n",
              "      <th>Pclass</th>\n",
              "      <td>1.000000</td>\n",
              "      <td>-0.365902</td>\n",
              "      <td>0.065187</td>\n",
              "      <td>0.023666</td>\n",
              "      <td>-0.150826</td>\n",
              "    </tr>\n",
              "    <tr>\n",
              "      <th>Age</th>\n",
              "      <td>-0.365902</td>\n",
              "      <td>1.000000</td>\n",
              "      <td>-0.307351</td>\n",
              "      <td>-0.187896</td>\n",
              "      <td>-0.099037</td>\n",
              "    </tr>\n",
              "    <tr>\n",
              "      <th>SibSp</th>\n",
              "      <td>0.065187</td>\n",
              "      <td>-0.307351</td>\n",
              "      <td>1.000000</td>\n",
              "      <td>0.383338</td>\n",
              "      <td>0.106296</td>\n",
              "    </tr>\n",
              "    <tr>\n",
              "      <th>Parch</th>\n",
              "      <td>0.023666</td>\n",
              "      <td>-0.187896</td>\n",
              "      <td>0.383338</td>\n",
              "      <td>1.000000</td>\n",
              "      <td>0.249543</td>\n",
              "    </tr>\n",
              "    <tr>\n",
              "      <th>SexNum</th>\n",
              "      <td>-0.150826</td>\n",
              "      <td>-0.099037</td>\n",
              "      <td>0.106296</td>\n",
              "      <td>0.249543</td>\n",
              "      <td>1.000000</td>\n",
              "    </tr>\n",
              "  </tbody>\n",
              "</table>\n",
              "</div>"
            ],
            "text/plain": [
              "          Pclass       Age     SibSp     Parch    SexNum\n",
              "Pclass  1.000000 -0.365902  0.065187  0.023666 -0.150826\n",
              "Age    -0.365902  1.000000 -0.307351 -0.187896 -0.099037\n",
              "SibSp   0.065187 -0.307351  1.000000  0.383338  0.106296\n",
              "Parch   0.023666 -0.187896  0.383338  1.000000  0.249543\n",
              "SexNum -0.150826 -0.099037  0.106296  0.249543  1.000000"
            ]
          },
          "metadata": {
            "tags": []
          },
          "execution_count": 55
        }
      ]
    },
    {
      "cell_type": "code",
      "metadata": {
        "colab": {
          "base_uri": "https://localhost:8080/"
        },
        "id": "1obkegT6oyNh",
        "outputId": "66686e7a-7d2b-4af8-9f16-541b810afe16"
      },
      "source": [
        "#import statsmodels.api as sm\r\n",
        "#from sklearn.model_selection import train_test_split"
      ],
      "execution_count": null,
      "outputs": [
        {
          "output_type": "stream",
          "text": [
            "/usr/local/lib/python3.6/dist-packages/statsmodels/tools/_testing.py:19: FutureWarning: pandas.util.testing is deprecated. Use the functions in the public API at pandas.testing instead.\n",
            "  import pandas.util.testing as tm\n"
          ],
          "name": "stderr"
        }
      ]
    },
    {
      "cell_type": "code",
      "metadata": {
        "colab": {
          "base_uri": "https://localhost:8080/"
        },
        "id": "4Fi9qYlsoYlH",
        "outputId": "6a885206-1f69-403e-b850-5721f81e65e6"
      },
      "source": [
        "#8 Use train_test_split to create the x & y training and testing sets\r\n",
        "\r\n",
        "x_train,x_test,y_train,y_test = train_test_split(features,target,test_size=0.25,random_state=1)\r\n",
        "print(x_train)\r\n",
        "print(y_train)\r\n",
        "print(x_test)\r\n",
        "\r\n"
      ],
      "execution_count": null,
      "outputs": [
        {
          "output_type": "stream",
          "text": [
            "     Pclass   Age  SibSp  Parch  SexNum\n",
            "453       1  49.0      1      0       1\n",
            "812       2  35.0      0      0       1\n",
            "449       1  52.0      0      0       1\n",
            "146       3  27.0      0      0       1\n",
            "880       2  25.0      0      1       2\n",
            "..      ...   ...    ...    ...     ...\n",
            "182       3   9.0      4      2       1\n",
            "809       1  33.0      1      0       2\n",
            "94        3  59.0      0      0       1\n",
            "292       2  36.0      0      0       1\n",
            "51        3  21.0      0      0       1\n",
            "\n",
            "[534 rows x 5 columns]\n",
            "453    1\n",
            "812    0\n",
            "449    1\n",
            "146    1\n",
            "880    1\n",
            "      ..\n",
            "182    0\n",
            "809    1\n",
            "94     0\n",
            "292    0\n",
            "51     0\n",
            "Name: Survived, Length: 534, dtype: int64\n",
            "     Pclass   Age  SibSp  Parch  SexNum\n",
            "689       1  15.0      0      1       2\n",
            "279       3  35.0      1      1       2\n",
            "508       3  28.0      0      0       1\n",
            "9         2  14.0      1      0       2\n",
            "496       1  54.0      1      0       2\n",
            "..      ...   ...    ...    ...     ...\n",
            "40        3  40.0      1      0       2\n",
            "323       2  22.0      1      1       2\n",
            "599       1  49.0      1      0       1\n",
            "437       2  24.0      2      3       2\n",
            "258       1  35.0      0      0       2\n",
            "\n",
            "[178 rows x 5 columns]\n"
          ],
          "name": "stdout"
        }
      ]
    },
    {
      "cell_type": "code",
      "metadata": {
        "colab": {
          "base_uri": "https://localhost:8080/"
        },
        "id": "pbnKZjMBpEQ9",
        "outputId": "4167c8ff-792d-4ea5-c799-7eae1ee0d58b"
      },
      "source": [
        "#Using statsmodel to generate & fit a logistic regression model with the formula:\r\n",
        "#formula = 'Survived ~ C(Pclass) + SexNum + Age + SipSp'\r\n",
        "\r\n",
        "\r\n",
        "formula = 'Survived ~ C(Pclass) + C(Sex) + Age + SipSp'\r\n",
        "print(formula)"
      ],
      "execution_count": null,
      "outputs": [
        {
          "output_type": "stream",
          "text": [
            "Survived ~ C(Pclass) + C(Sex) + Age + SipSp\n"
          ],
          "name": "stdout"
        }
      ]
    },
    {
      "cell_type": "markdown",
      "metadata": {
        "id": "y10aiO3rJBWC"
      },
      "source": [
        "**Adj. R-squared: **bold text** This is the modified version of R-squared which is adjusted for the number of variables in the regression. It increases only when an additional variable adds to the explanatory power to the regression.\r\n",
        "\r\n",
        " **Prob(F-Statistic):** This tells the overall significance of the regression.\r\n",
        "\r\n",
        "** AIC/BIC: **It stands for Akaike’s Information Criteria and is used for model selection.\r\n",
        "\r\n",
        "** Prob(Omnibus):** One of the assumptions of OLS is that the errors are normally distributed.\r\n",
        "\r\n",
        "** Durbin-watson:** Another assumption of OLS is of homoscedasticity. This implies that the variance of errors is constant. A value between 1 to 2 is preferred.\r\n",
        "\r\n",
        " **Prob(Jarque-Bera):** It i in line with the Omnibus test. It is also performed for the distribution analysis of the regression errors.\r\n",
        "\r\n",
        "**OLS stands for: Ordinary Least Squares (OLS)**\r\n",
        "**R-squared:** It signifies the “percentage variation in dependent that is explained by independent variables”. "
      ]
    },
    {
      "cell_type": "code",
      "metadata": {
        "colab": {
          "base_uri": "https://localhost:8080/",
          "height": 362
        },
        "id": "y3sJlQo6pmwN",
        "outputId": "55c9c5d8-3340-48c7-b659-abd78d25006a"
      },
      "source": [
        "#10: Display summary of the model\r\n",
        "\r\n",
        "logitfit = sm.Logit(y_train, x_train, formula = str(formula)).fit()\r\n",
        "logitfit.summary()"
      ],
      "execution_count": null,
      "outputs": [
        {
          "output_type": "stream",
          "text": [
            "Optimization terminated successfully.\n",
            "         Current function value: 0.450159\n",
            "         Iterations 6\n"
          ],
          "name": "stdout"
        },
        {
          "output_type": "execute_result",
          "data": {
            "text/html": [
              "<table class=\"simpletable\">\n",
              "<caption>Logit Regression Results</caption>\n",
              "<tr>\n",
              "  <th>Dep. Variable:</th>       <td>Survived</td>     <th>  No. Observations:  </th>  <td>   534</td>  \n",
              "</tr>\n",
              "<tr>\n",
              "  <th>Model:</th>                 <td>Logit</td>      <th>  Df Residuals:      </th>  <td>   529</td>  \n",
              "</tr>\n",
              "<tr>\n",
              "  <th>Method:</th>                 <td>MLE</td>       <th>  Df Model:          </th>  <td>     4</td>  \n",
              "</tr>\n",
              "<tr>\n",
              "  <th>Date:</th>            <td>Mon, 14 Dec 2020</td> <th>  Pseudo R-squ.:     </th>  <td>0.3299</td>  \n",
              "</tr>\n",
              "<tr>\n",
              "  <th>Time:</th>                <td>02:23:59</td>     <th>  Log-Likelihood:    </th> <td> -240.38</td> \n",
              "</tr>\n",
              "<tr>\n",
              "  <th>converged:</th>             <td>True</td>       <th>  LL-Null:           </th> <td> -358.73</td> \n",
              "</tr>\n",
              "<tr>\n",
              "  <th>Covariance Type:</th>     <td>nonrobust</td>    <th>  LLR p-value:       </th> <td>4.791e-50</td>\n",
              "</tr>\n",
              "</table>\n",
              "<table class=\"simpletable\">\n",
              "<tr>\n",
              "     <td></td>       <th>coef</th>     <th>std err</th>      <th>z</th>      <th>P>|z|</th>  <th>[0.025</th>    <th>0.975]</th>  \n",
              "</tr>\n",
              "<tr>\n",
              "  <th>Pclass</th> <td>   -1.1899</td> <td>    0.116</td> <td>  -10.267</td> <td> 0.000</td> <td>   -1.417</td> <td>   -0.963</td>\n",
              "</tr>\n",
              "<tr>\n",
              "  <th>Age</th>    <td>   -0.0429</td> <td>    0.006</td> <td>   -6.646</td> <td> 0.000</td> <td>   -0.055</td> <td>   -0.030</td>\n",
              "</tr>\n",
              "<tr>\n",
              "  <th>SibSp</th>  <td>   -0.3688</td> <td>    0.144</td> <td>   -2.562</td> <td> 0.010</td> <td>   -0.651</td> <td>   -0.087</td>\n",
              "</tr>\n",
              "<tr>\n",
              "  <th>Parch</th>  <td>   -0.0991</td> <td>    0.130</td> <td>   -0.760</td> <td> 0.447</td> <td>   -0.354</td> <td>    0.156</td>\n",
              "</tr>\n",
              "<tr>\n",
              "  <th>SexNum</th> <td>    2.6805</td> <td>    0.238</td> <td>   11.246</td> <td> 0.000</td> <td>    2.213</td> <td>    3.148</td>\n",
              "</tr>\n",
              "</table>"
            ],
            "text/plain": [
              "<class 'statsmodels.iolib.summary.Summary'>\n",
              "\"\"\"\n",
              "                           Logit Regression Results                           \n",
              "==============================================================================\n",
              "Dep. Variable:               Survived   No. Observations:                  534\n",
              "Model:                          Logit   Df Residuals:                      529\n",
              "Method:                           MLE   Df Model:                            4\n",
              "Date:                Mon, 14 Dec 2020   Pseudo R-squ.:                  0.3299\n",
              "Time:                        02:23:59   Log-Likelihood:                -240.38\n",
              "converged:                       True   LL-Null:                       -358.73\n",
              "Covariance Type:            nonrobust   LLR p-value:                 4.791e-50\n",
              "==============================================================================\n",
              "                 coef    std err          z      P>|z|      [0.025      0.975]\n",
              "------------------------------------------------------------------------------\n",
              "Pclass        -1.1899      0.116    -10.267      0.000      -1.417      -0.963\n",
              "Age           -0.0429      0.006     -6.646      0.000      -0.055      -0.030\n",
              "SibSp         -0.3688      0.144     -2.562      0.010      -0.651      -0.087\n",
              "Parch         -0.0991      0.130     -0.760      0.447      -0.354       0.156\n",
              "SexNum         2.6805      0.238     11.246      0.000       2.213       3.148\n",
              "==============================================================================\n",
              "\"\"\""
            ]
          },
          "metadata": {
            "tags": []
          },
          "execution_count": 59
        }
      ]
    },
    {
      "cell_type": "code",
      "metadata": {
        "colab": {
          "base_uri": "https://localhost:8080/"
        },
        "id": "a3ycmsR-qlIf",
        "outputId": "afa6dc71-e18a-4c4c-b5f9-486ba90680a6"
      },
      "source": [
        "  #11,12&13. Calculate the y predicted values with your logistic model\r\n",
        "  # finds out the error in the prediction\r\n",
        "\r\n",
        "y_pred = np.round(logitfit.predict(x_test))\r\n",
        "residuals = y_test - y_pred\r\n",
        "print('Mean of residuals =', np.mean(residuals))"
      ],
      "execution_count": null,
      "outputs": [
        {
          "output_type": "stream",
          "text": [
            "Mean of residuals = -0.011235955056179775\n"
          ],
          "name": "stdout"
        }
      ]
    },
    {
      "cell_type": "code",
      "metadata": {
        "id": "TdEN9H0Qt-B0"
      },
      "source": [
        "#14. Create and display a confusion matrix using Pandas crosstab.\r\n",
        "\r\n"
      ],
      "execution_count": null,
      "outputs": []
    },
    {
      "cell_type": "code",
      "metadata": {
        "id": "ukWjE9TftEJ_"
      },
      "source": [
        "'''12. Round y_pred and save the values in y_pred.\r\n",
        "13. Calculate the model residuals.\r\n",
        "14. Create and display a confusion matrix using Pandas crosstab.\r\n",
        "15. Plot the confusion matrix with a heatmap\r\n",
        "16. Print the value for TN, TP, FN and FP\r\n",
        "17. Calculate and print the accuracy score\r\n",
        "18. Plot the ROC curve\r\n",
        "19. Using your model, plot the distribution of the probability of survival with respect to the age of\r\n",
        "the passengers'''"
      ],
      "execution_count": null,
      "outputs": []
    },
    {
      "cell_type": "code",
      "metadata": {
        "colab": {
          "base_uri": "https://localhost:8080/"
        },
        "id": "7eqi2fuYtipx",
        "outputId": "ebdb4739-839c-4317-817d-95d0dd2fbc7f"
      },
      "source": [
        "# 14. Create and display a confusion matrix using Pandas crosstab.\r\n",
        "\r\n",
        "#A confusion matrix is a technique for summarizing the performance of a \r\n",
        "#classification algorithm. Classification accuracy alone can be \r\n",
        "#misleading if you have an unequal number of observations in each class \r\n",
        "#or if you have more than two classes in your dataset\r\n",
        "\r\n",
        "confusion = pd.crosstab(y_test,y_pred)\r\n",
        "print (\"Confusion Matrix : \\n\", confusion)"
      ],
      "execution_count": null,
      "outputs": [
        {
          "output_type": "stream",
          "text": [
            "Confusion Matrix : \n",
            " col_0     0.0  1.0\n",
            "Survived          \n",
            "0          82   20\n",
            "1          18   58\n"
          ],
          "name": "stdout"
        }
      ]
    },
    {
      "cell_type": "code",
      "metadata": {
        "id": "XECT6Z9hzWmC"
      },
      "source": [
        "TP = 82, FP = 20\r\n",
        "FN = 18   TN = 58"
      ],
      "execution_count": null,
      "outputs": []
    },
    {
      "cell_type": "code",
      "metadata": {
        "colab": {
          "base_uri": "https://localhost:8080/"
        },
        "id": "NxnblVFG05e2",
        "outputId": "b0d7868b-5e97-431e-b3f5-beeb61dbb1c1"
      },
      "source": [
        "99+58"
      ],
      "execution_count": null,
      "outputs": [
        {
          "output_type": "execute_result",
          "data": {
            "text/plain": [
              "157"
            ]
          },
          "metadata": {
            "tags": []
          },
          "execution_count": 26
        }
      ]
    },
    {
      "cell_type": "code",
      "metadata": {
        "colab": {
          "base_uri": "https://localhost:8080/"
        },
        "id": "5sDs4kpP1GzY",
        "outputId": "efd3691f-f974-4a33-f3a5-305fad7ac201"
      },
      "source": [
        "#recall\r\n",
        "99/157"
      ],
      "execution_count": null,
      "outputs": [
        {
          "output_type": "execute_result",
          "data": {
            "text/plain": [
              "0.6305732484076433"
            ]
          },
          "metadata": {
            "tags": []
          },
          "execution_count": 27
        }
      ]
    },
    {
      "cell_type": "code",
      "metadata": {
        "colab": {
          "base_uri": "https://localhost:8080/"
        },
        "id": "0noHHA1L1gAL",
        "outputId": "31a230c4-d833-4e3d-e21a-0abeb1b8f7eb"
      },
      "source": [
        "#precision\r\n",
        "99/102"
      ],
      "execution_count": null,
      "outputs": [
        {
          "output_type": "execute_result",
          "data": {
            "text/plain": [
              "0.9705882352941176"
            ]
          },
          "metadata": {
            "tags": []
          },
          "execution_count": 28
        }
      ]
    },
    {
      "cell_type": "code",
      "metadata": {
        "colab": {
          "base_uri": "https://localhost:8080/"
        },
        "id": "e_qGHw851z4m",
        "outputId": "6e1a84a0-4d6d-434d-80af-4f9c44e6d567"
      },
      "source": [
        "#accuracy computation\r\n",
        "117/178"
      ],
      "execution_count": null,
      "outputs": [
        {
          "output_type": "execute_result",
          "data": {
            "text/plain": [
              "0.6573033707865169"
            ]
          },
          "metadata": {
            "tags": []
          },
          "execution_count": 29
        }
      ]
    },
    {
      "cell_type": "code",
      "metadata": {
        "colab": {
          "base_uri": "https://localhost:8080/",
          "height": 280
        },
        "id": "Nfi3wcW42CKv",
        "outputId": "d95b3ab4-85c0-44dc-f8b6-a67df2a29549"
      },
      "source": [
        "#15 Plot the confusion matrix with a heatmap\r\n",
        "##16: Print the value for TN, TP, FN, and FP\r\n",
        "\r\n",
        "sns.heatmap(confusion, annot=True, cmap=\"YlGnBu\")\r\n",
        "plt.show()"
      ],
      "execution_count": null,
      "outputs": [
        {
          "output_type": "display_data",
          "data": {
            "image/png": "[encoded data removed]",
            "text/plain": [
              "<Figure size 432x288 with 2 Axes>"
            ]
          },
          "metadata": {
            "tags": [],
            "needs_background": "light"
          }
        }
      ]
    },
    {
      "cell_type": "code",
      "metadata": {
        "colab": {
          "base_uri": "https://localhost:8080/"
        },
        "id": "qOMUqBRo2qg_",
        "outputId": "97e51c73-c3b6-485c-811c-51eb7f8731de"
      },
      "source": [
        "TN = confusion[0][0]   \r\n",
        "TP = confusion[1][1]\r\n",
        "\r\n",
        "FN = confusion[1][0]\r\n",
        "FP = confusion[0][1]\r\n",
        "\r\n",
        "print('\\n\\nTrue Negative =', TN)\r\n",
        "print('True Positive =', TP)\r\n",
        "print('False Negative =', FN)\r\n",
        "print('False Positive =', FP)"
      ],
      "execution_count": null,
      "outputs": [
        {
          "output_type": "stream",
          "text": [
            "\n",
            "\n",
            "True Negative = 82\n",
            "True Positive = 58\n",
            "False Negative = 20\n",
            "False Positive = 18\n"
          ],
          "name": "stdout"
        }
      ]
    },
    {
      "cell_type": "code",
      "metadata": {
        "colab": {
          "base_uri": "https://localhost:8080/"
        },
        "id": "Ws-i9gw45g9P",
        "outputId": "1bc20d22-1b92-4d29-d7b9-63485f05744d"
      },
      "source": [
        "#17 Calculate and print the accuracy score\r\n",
        "print('\\n\\nAccuracy =', round((TP + TN)/ (TP +TN + FN + FP),2))"
      ],
      "execution_count": null,
      "outputs": [
        {
          "output_type": "stream",
          "text": [
            "\n",
            "\n",
            "Accuracy = 0.79\n"
          ],
          "name": "stdout"
        }
      ]
    },
    {
      "cell_type": "markdown",
      "metadata": {
        "id": "DQo0A_xZ6NPz"
      },
      "source": [
        "An ROC curve (receiver operating characteristic curve) is a graph showing the performance of a classification model at all classification thresholds. This curve plots two parameters: True Positive Rate. False Positive Rate\r\n",
        "\r\n",
        "\r\n",
        "It is mainly used for numerical and predictive analysis by the help of the Python language. What is the ROC curve? A receiver operating characteristic curve, commonly known as the ROC curve."
      ]
    },
    {
      "cell_type": "code",
      "metadata": {
        "colab": {
          "base_uri": "https://localhost:8080/",
          "height": 295
        },
        "id": "sCr6PXTU58r2",
        "outputId": "04f2eb32-0018-4b3b-fc91-bf2db26f7445"
      },
      "source": [
        "#Plot the ROC curve ROC(Receiver Operating Characteristic)\r\n",
        "\r\n",
        "\r\n",
        "\r\n",
        "plt.clf()\r\n",
        "fpr, tpr, thresholds = roc_curve(y_test, y_pred)\r\n",
        "roc_auc = auc(fpr, tpr)\r\n",
        "plt.plot(fpr, tpr, label='ROC curve (area = %0.2f)' % roc_auc)\r\n",
        "plt.plot([0, 1], [0, 1], 'k--')\r\n",
        "plt.xlim([0.0, 1.0])\r\n",
        "plt.ylim([0.0, 1.0])\r\n",
        "plt.xlabel('False Positive Rate')\r\n",
        "plt.ylabel('True Positive Rate')\r\n",
        "plt.title('Receiver operating characteristic example')\r\n",
        "plt.legend(loc=\"lower right\")\r\n",
        "plt.show()"
      ],
      "execution_count": null,
      "outputs": [
        {
          "output_type": "display_data",
          "data": {
            "image/png": "[encoded data removed]",
            "text/plain": [
              "<Figure size 432x288 with 1 Axes>"
            ]
          },
          "metadata": {
            "tags": [],
            "needs_background": "light"
          }
        }
      ]
    },
    {
      "cell_type": "markdown",
      "metadata": {
        "id": "s2M4RJdn9Etw"
      },
      "source": [
        "Notes:\r\n",
        "\r\n",
        "If cdf, sf, cumhazard, or entropy are computed, they are computed based on the definition of the kernel rather than the FFT approximation, even if the density is fit with FFT = True.\r\n",
        "\r\n",
        "KDEUnivariate is much faster than KDEMultivariate, due to its FFT-based implementation. It should be preferred for univariate, continuous data. KDEMultivariate also supports mixed data."
      ]
    },
    {
      "cell_type": "code",
      "metadata": {
        "colab": {
          "base_uri": "https://localhost:8080/",
          "height": 298
        },
        "id": "2_mqMs--8HQw",
        "outputId": "02c29065-2b6c-41d6-f35c-3db1f8a6c898"
      },
      "source": [
        "#19 Using your model, plot the distribution of the probability of survival with respect to the age of\r\n",
        "#the passengers\r\n",
        "\r\n",
        "kde_res = sm.nonparametric.KDEUnivariate(logitfit.predict())\r\n",
        "kde_res.fit()\r\n",
        "plt.plot(kde_res.support,kde_res.density)\r\n",
        "plt.fill_between(kde_res.support,kde_res.density, alpha=0.2)\r\n",
        "plt.title(\"Distribution of our Predictions\")\r\n"
      ],
      "execution_count": null,
      "outputs": [
        {
          "output_type": "execute_result",
          "data": {
            "text/plain": [
              "Text(0.5, 1.0, 'Distribution of our Predictions')"
            ]
          },
          "metadata": {
            "tags": []
          },
          "execution_count": 66
        },
        {
          "output_type": "display_data",
          "data": {
            "image/png": "[encoded data removed]",
            "text/plain": [
              "<Figure size 432x288 with 1 Axes>"
            ]
          },
          "metadata": {
            "tags": [],
            "needs_background": "light"
          }
        }
      ]
    },
    {
      "cell_type": "code",
      "metadata": {
        "colab": {
          "base_uri": "https://localhost:8080/"
        },
        "id": "NE8RFCS7A8sz",
        "outputId": "f89f9fa2-cc5a-425e-8854-de2084fdcb08"
      },
      "source": [
        "# Feature Recode: Male = 1, Female = 2 for regression\r\n",
        "dict = {'male' : '1', 'female' : '2'} \r\n",
        "print(dict)"
      ],
      "execution_count": null,
      "outputs": [
        {
          "output_type": "stream",
          "text": [
            "{'male': '1', 'female': '2'}\n"
          ],
          "name": "stdout"
        }
      ]
    },
    {
      "cell_type": "code",
      "metadata": {
        "id": "uWxYs7R1BESb"
      },
      "source": [
        "df['SexNum']= df['Sex'].map(dict) \r\n",
        "df['SexNum'] =  df['SexNum'].astype('int')  # change object to in"
      ],
      "execution_count": null,
      "outputs": []
    },
    {
      "cell_type": "code",
      "metadata": {
        "colab": {
          "base_uri": "https://localhost:8080/",
          "height": 204
        },
        "id": "MVpU7NnuBg-y",
        "outputId": "14a859b7-138c-4f5a-cf20-c7bcfdb3cc1a"
      },
      "source": [
        "df.head()"
      ],
      "execution_count": null,
      "outputs": [
        {
          "output_type": "execute_result",
          "data": {
            "text/html": [
              "<div>\n",
              "<style scoped>\n",
              "    .dataframe tbody tr th:only-of-type {\n",
              "        vertical-align: middle;\n",
              "    }\n",
              "\n",
              "    .dataframe tbody tr th {\n",
              "        vertical-align: top;\n",
              "    }\n",
              "\n",
              "    .dataframe thead th {\n",
              "        text-align: right;\n",
              "    }\n",
              "</style>\n",
              "<table border=\"1\" class=\"dataframe\">\n",
              "  <thead>\n",
              "    <tr style=\"text-align: right;\">\n",
              "      <th></th>\n",
              "      <th>PassengerId</th>\n",
              "      <th>Pclass</th>\n",
              "      <th>Sex</th>\n",
              "      <th>Age</th>\n",
              "      <th>SibSp</th>\n",
              "      <th>Parch</th>\n",
              "      <th>Fare</th>\n",
              "      <th>Embarked</th>\n",
              "      <th>Survived</th>\n",
              "      <th>SexNum</th>\n",
              "    </tr>\n",
              "  </thead>\n",
              "  <tbody>\n",
              "    <tr>\n",
              "      <th>0</th>\n",
              "      <td>1</td>\n",
              "      <td>3</td>\n",
              "      <td>male</td>\n",
              "      <td>22.0</td>\n",
              "      <td>1</td>\n",
              "      <td>0</td>\n",
              "      <td>7.2500</td>\n",
              "      <td>S</td>\n",
              "      <td>0</td>\n",
              "      <td>1</td>\n",
              "    </tr>\n",
              "    <tr>\n",
              "      <th>1</th>\n",
              "      <td>2</td>\n",
              "      <td>1</td>\n",
              "      <td>female</td>\n",
              "      <td>38.0</td>\n",
              "      <td>1</td>\n",
              "      <td>0</td>\n",
              "      <td>71.2833</td>\n",
              "      <td>C</td>\n",
              "      <td>1</td>\n",
              "      <td>2</td>\n",
              "    </tr>\n",
              "    <tr>\n",
              "      <th>2</th>\n",
              "      <td>3</td>\n",
              "      <td>3</td>\n",
              "      <td>female</td>\n",
              "      <td>26.0</td>\n",
              "      <td>0</td>\n",
              "      <td>0</td>\n",
              "      <td>7.9250</td>\n",
              "      <td>S</td>\n",
              "      <td>1</td>\n",
              "      <td>2</td>\n",
              "    </tr>\n",
              "    <tr>\n",
              "      <th>3</th>\n",
              "      <td>4</td>\n",
              "      <td>1</td>\n",
              "      <td>female</td>\n",
              "      <td>35.0</td>\n",
              "      <td>1</td>\n",
              "      <td>0</td>\n",
              "      <td>53.1000</td>\n",
              "      <td>S</td>\n",
              "      <td>1</td>\n",
              "      <td>2</td>\n",
              "    </tr>\n",
              "    <tr>\n",
              "      <th>4</th>\n",
              "      <td>5</td>\n",
              "      <td>3</td>\n",
              "      <td>male</td>\n",
              "      <td>35.0</td>\n",
              "      <td>0</td>\n",
              "      <td>0</td>\n",
              "      <td>8.0500</td>\n",
              "      <td>S</td>\n",
              "      <td>0</td>\n",
              "      <td>1</td>\n",
              "    </tr>\n",
              "  </tbody>\n",
              "</table>\n",
              "</div>"
            ],
            "text/plain": [
              "   PassengerId  Pclass     Sex   Age  ...     Fare  Embarked  Survived SexNum\n",
              "0            1       3    male  22.0  ...   7.2500         S         0      1\n",
              "1            2       1  female  38.0  ...  71.2833         C         1      2\n",
              "2            3       3  female  26.0  ...   7.9250         S         1      2\n",
              "3            4       1  female  35.0  ...  53.1000         S         1      2\n",
              "4            5       3    male  35.0  ...   8.0500         S         0      1\n",
              "\n",
              "[5 rows x 10 columns]"
            ]
          },
          "metadata": {
            "tags": []
          },
          "execution_count": 69
        }
      ]
    },
    {
      "cell_type": "code",
      "metadata": {
        "colab": {
          "base_uri": "https://localhost:8080/",
          "height": 312
        },
        "id": "dIJvLEYi_eha",
        "outputId": "3ba23752-113b-4c29-f130-67286cb5138c"
      },
      "source": [
        "#  Let's see the prediction distribution based on the male gender: Male = 1, Female = 2 for regression\r\n",
        "male = x_train.SexNum==1\r\n",
        "plt.scatter(logitfit.predict(),male , alpha=0.2)\r\n",
        "plt.grid(b=True, which='major', axis='x')\r\n",
        "plt.xlabel(\"Predicted chance of survival\")\r\n",
        "plt.ylabel(\"Male Gender\")\r\n",
        "plt.title(\"The Change of Survival Probability by Gender being Male\")"
      ],
      "execution_count": null,
      "outputs": [
        {
          "output_type": "execute_result",
          "data": {
            "text/plain": [
              "Text(0.5, 1.0, 'The Change of Survival Probability by Gender being Male')"
            ]
          },
          "metadata": {
            "tags": []
          },
          "execution_count": 70
        },
        {
          "output_type": "display_data",
          "data": {
            "image/png": "[encoded data removed]",
            "text/plain": [
              "<Figure size 432x288 with 1 Axes>"
            ]
          },
          "metadata": {
            "tags": [],
            "needs_background": "light"
          }
        }
      ]
    },
    {
      "cell_type": "code",
      "metadata": {
        "colab": {
          "base_uri": "https://localhost:8080/",
          "height": 312
        },
        "id": "scPpAyQSE3Go",
        "outputId": "ca493f10-7a9a-4e9b-f850-8f94949f777e"
      },
      "source": [
        "plt.scatter(logitfit.predict(),x_train.Age , alpha=0.2)\r\n",
        "plt.grid(True, linewidth=0.15)\r\n",
        "plt.title(\"The Change of Survival Probability by Age\")\r\n",
        "plt.xlabel(\"Predicted chance of survival\")\r\n",
        "plt.ylabel(\"age\")"
      ],
      "execution_count": null,
      "outputs": [
        {
          "output_type": "execute_result",
          "data": {
            "text/plain": [
              "Text(0, 0.5, 'age')"
            ]
          },
          "metadata": {
            "tags": []
          },
          "execution_count": 71
        },
        {
          "output_type": "display_data",
          "data": {
            "image/png": "[encoded data removed]",
            "text/plain": [
              "<Figure size 432x288 with 1 Axes>"
            ]
          },
          "metadata": {
            "tags": [],
            "needs_background": "light"
          }
        }
      ]
    },
    {
      "cell_type": "markdown",
      "metadata": {
        "id": "i0TlenOSa5Eh"
      },
      "source": [
        ""
      ]
    }
  ]
}